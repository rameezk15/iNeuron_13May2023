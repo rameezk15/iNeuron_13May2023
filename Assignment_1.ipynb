{
 "cells": [
  {
   "cell_type": "markdown",
   "id": "a54196fc",
   "metadata": {},
   "source": [
    "# 1. In the below elements which of them are values or an expression? eg:- values can be integer or string and expressions will be mathematical operators.\n",
    "    * \n",
    "    'hello'\n",
    "    -87.8\n",
    "    - \n",
    "    / \n",
    "    +\n",
    "    6 \n"
   ]
  },
  {
   "cell_type": "markdown",
   "id": "21bcec02",
   "metadata": {},
   "source": [
    "Ans. <p>In the given elements we seprate the values and expession below:\n",
    "\n",
    "<p><strong>Expression operators</strong>:\n",
    "    \n",
    "    * #Multiplication operators\n",
    "    - #Subtraction operator\n",
    "    / #Division operator\n",
    "    + #Addition operator\n",
    "\n",
    "<p><strong>Value</strong>:\n",
    "    \n",
    "    'hello' #String value\n",
    "    -87.8 #Float value\n",
    "    6 #Integer value"
   ]
  },
  {
   "cell_type": "markdown",
   "id": "42cbe8c9",
   "metadata": {},
   "source": [
    "# 2. What is the difference between string and variable?"
   ]
  },
  {
   "cell_type": "markdown",
   "id": "e1fcf1d8",
   "metadata": {},
   "source": [
    "Ans. <p><strong>Vriable</strong>: Variable is a container in which you can store a different type of data or values. For example: string, int, float, list, tuple etc.\n",
    "\n",
    "<p><strong>String</strong>: String is a collection of character which enclosed in a single quotes <code>‘</code> or a double quote <code>‘'</code>. We can slice the string and access the particular character with the help of there index number. But we can not change it because string is immutable."
   ]
  },
  {
   "cell_type": "markdown",
   "id": "70a209bd",
   "metadata": {},
   "source": [
    "# 3. Describe three different data types."
   ]
  },
  {
   "cell_type": "markdown",
   "id": "4ffeb963",
   "metadata": {},
   "source": [
    "Ans.<p><strong>1. Integers</strong>: Integers are whole numbers, without a fractional component. They can be positive or negative.</p>"
   ]
  },
  {
   "cell_type": "code",
   "execution_count": 1,
   "id": "7e840f28",
   "metadata": {},
   "outputs": [],
   "source": [
    "x= 23\n",
    "y = -23"
   ]
  },
  {
   "cell_type": "markdown",
   "id": "28ab31b9",
   "metadata": {},
   "source": [
    "<p><strong>2. Floats</strong>: Floats represent real numbers and are written with a decimal point.</p>"
   ]
  },
  {
   "cell_type": "code",
   "execution_count": 2,
   "id": "57fe7aea",
   "metadata": {},
   "outputs": [],
   "source": [
    "x = 23.5\n",
    "y = -23.5"
   ]
  },
  {
   "cell_type": "markdown",
   "id": "a81951c9",
   "metadata": {},
   "source": [
    "<p><strong>3. Strings</strong>: Strings in Python are sequences of character data. They are created by enclosing characters in quotes.</p>"
   ]
  },
  {
   "cell_type": "code",
   "execution_count": 4,
   "id": "c2bfad4f",
   "metadata": {},
   "outputs": [
    {
     "name": "stdout",
     "output_type": "stream",
     "text": [
      "Data Science\n"
     ]
    }
   ],
   "source": [
    "x = \"Data Science\"\n",
    "print(x)"
   ]
  },
  {
   "cell_type": "markdown",
   "id": "4be46399",
   "metadata": {},
   "source": [
    "# 4. What is an expression made up of? What do all expressions do?"
   ]
  },
  {
   "cell_type": "markdown",
   "id": "b2b852e5",
   "metadata": {},
   "source": [
    "Ans.<p>Let's simplify the explanation of <strong>Expression</strong> using cooking analogy:\n",
    "\n",
    "To make a <strong>dish (Expression)</strong>, we need a few things:\n",
    "\n",
    "<p>1. <strong>Ingredients (Values)</strong>: These are like the main components or ingredients we use in cooking. They can be numbers <code>1, 2, 3...</code> or words <code>\"hello\"</code> or even <code>true/false</code> statements. These ingredients form the basis of our dish.\n",
    "\n",
    "<p>2. <strong>Utensils (Variables)</strong>: We need a container or utensil to store our ingredients. Variables act as these containers in programming. We give them names, like <code>x</code> or <code>y</code> and we can store values in them. These variables hold our ingredients for further use.\n",
    "\n",
    "<p>3. <strong>Recipe (Operators )</strong>: Now we need a recipe to combine the ingredients and create the dish. Operators act as these recipes in programming. They are symbols or keywords that perform specific operations on the ingredients. For example, the <code>+</code> operator is like an addition recipe, and the <code>-</code> operator is like a subtraction recipe. We can use different recipes to create different dishes (outputs) using the same ingredients.\n",
    "    \n",
    "<p>4. <strong>Recipe (Function call)</strong>: Now if we don't want to cook ourselves, we can buy ready-made food. It comes with all the ingredients(values) and preparations(operator & variable) done for us. We just need to heat it up in the oven or microwave (like calling a function) to make a dish.\n",
    "\n",
    "Let's consider the examples you mentioned:\n",
    "\n",
    "- <code>x = 2 + 3</code> : Here, the ingredients are the numbers 2 and 3. The <code>+</code> operator acts as the recipe to add them together. The output is 5, which is stored in the variable <code>x</code>.\n",
    "\n",
    "- <code>x = 2 - 3</code> : In this case, the ingredients are still the numbers 2 and 3, but now the <code>-</code> operator is the recipe. The output is -1, which is stored in the variable <code>x</code>.\n",
    "\n",
    "Regarding your example with boolean values:\n",
    "\n",
    "- <code>x = false / true</code> : Here, we have the boolean values false and true as ingredients. The <code>/</code> operator represents division. However, when dividing booleans, they are implicitly converted to numerical values. In many programming languages, false is equivalent to 0 and true is equivalent to 1. So the output would be 0 divided by 1, which equals 0.\n",
    "\n",
    "    To summarize, <strong>expressions</strong> are like dishes created using ingredients (<code>values</code>), stored in utensils (<code>variables</code>), and combined with recipes (<code>operators & function call</code>) to produce different outputs. Each recipe (<code>operator & function call</code>) can yield a different dish (output) even with the same ingredients(<code>values</code>)."
   ]
  },
  {
   "cell_type": "markdown",
   "id": "56371772",
   "metadata": {},
   "source": [
    "# 5. This assignment statements, like spam = 10. What is the difference between an expression and a statement?"
   ]
  },
  {
   "cell_type": "markdown",
   "id": "623b7daf",
   "metadata": {},
   "source": [
    "Ans. <p>1. <strong>Expression</strong>: An expression is a combination of values, variables, operators, and function calls that can be evaluated to produce a value. . It combines things like numbers or variables with operators to give a result. For example, <code>2 + 3</code> is an expression that evaluates to 5.\n",
    "\n",
    "<p>2. <strong>Statement</strong>: On the other hand, a statement is like a complete instruction or action in a program. It does something or controls the flow of the program. For example, <code>spam = 10</code> is a statement that assigns the value 10 to the variable `spam`. It doesn't give a result but changes the value stored in <code>spam</code>.\n",
    "\n",
    "In summary, expressions are like calculations that give values, while statements are instructions or actions that do something in a program. In the case of <code>spam = 10</code>, it's a statement that assigns the value 10 to the variable `spam`."
   ]
  },
  {
   "cell_type": "markdown",
   "id": "7f4bb1e0",
   "metadata": {},
   "source": [
    "# 6. After running the following code, what does the variable bacon contain?\n",
    "    bacon = 22\n",
    "    bacon + 1"
   ]
  },
  {
   "cell_type": "code",
   "execution_count": 6,
   "id": "5fa4e2ed",
   "metadata": {},
   "outputs": [
    {
     "name": "stdout",
     "output_type": "stream",
     "text": [
      "22\n"
     ]
    }
   ],
   "source": [
    "bacon = 22\n",
    "bacon + 1\n",
    "print(bacon) #variable bacon contain 22 "
   ]
  },
  {
   "cell_type": "markdown",
   "id": "af10a621",
   "metadata": {},
   "source": [
    "# 7. What should the values of the following two terms be?\n",
    "    'spam' + 'spamspam'\n",
    "    'spam' * 3"
   ]
  },
  {
   "cell_type": "code",
   "execution_count": 15,
   "id": "cac46770",
   "metadata": {},
   "outputs": [
    {
     "name": "stdout",
     "output_type": "stream",
     "text": [
      "Output of x is  \"spamspamspam\" and output of y is \"spamspamspam\" same\n"
     ]
    }
   ],
   "source": [
    "#Both Produce a same Output\n",
    "x= 'spam' + 'spamspam' #String Concatenation\n",
    "y = 'spam' * 3 #String Repetition\n",
    "\n",
    "print(f'Output of x is  \"{x}\" and output of y is \"{y}\" same')"
   ]
  },
  {
   "cell_type": "markdown",
   "id": "d3eb076f",
   "metadata": {},
   "source": [
    "# 8. Why is eggs a valid variable name while 100 is invalid?"
   ]
  },
  {
   "cell_type": "markdown",
   "id": "0fa622bc",
   "metadata": {},
   "source": [
    "Ans. <p><strong>eggs</strong> a valid variable name while <strong>100</strong> is invalid because variable name only start with alphabet or <code>_</code> underscore only. Anything else will be invalid. You can use <strong>100</strong> as variable name if you use underscore and alphabet before <strong>100</strong> ex: <code>_100</code>; <code>a100</code>"
   ]
  },
  {
   "cell_type": "markdown",
   "id": "e0f26c08",
   "metadata": {},
   "source": [
    "# 9. What three functions can be used to get the integer, floating-point number, or string version of a value?"
   ]
  },
  {
   "cell_type": "markdown",
   "id": "cacb8aca",
   "metadata": {},
   "source": [
    "Ans. <p> The <strong>int(), float() or str()</strong> are the three function which use to get a integer, float-point number or string version repectively."
   ]
  },
  {
   "cell_type": "code",
   "execution_count": 8,
   "id": "07d1b16c",
   "metadata": {},
   "outputs": [],
   "source": [
    "#Integer from string (only if it contain a valid integer representation) \n",
    "s1 = \"23\"\n",
    "i = int(s1)\n",
    "\n",
    "#Floating-point from string (only if it contain a valid float representation)\n",
    "s2 = \"23.45\"\n",
    "f = float(s2)\n",
    "\n",
    "# String from intiger\n",
    "x = 23\n",
    "s = str(x)"
   ]
  },
  {
   "cell_type": "markdown",
   "id": "2512d3e8",
   "metadata": {},
   "source": [
    "# 10. Why does this expression cause an error? How can you fix it?\n",
    "    'I have eaten ' + 99 + ' burritos.'"
   ]
  },
  {
   "cell_type": "markdown",
   "id": "3ec86352",
   "metadata": {},
   "source": [
    "Ans <p> Given expression cause an error because it attempts to concatenate a string <code>'I have eaten '</code> with an integer <code>99</code> using the <code>+</code> operator. <code>+</code> Operator is only use with same data type. for example:"
   ]
  },
  {
   "cell_type": "code",
   "execution_count": 11,
   "id": "8f0a5a31",
   "metadata": {},
   "outputs": [
    {
     "data": {
      "text/plain": [
       "100"
      ]
     },
     "execution_count": 11,
     "metadata": {},
     "output_type": "execute_result"
    }
   ],
   "source": [
    "x = 99 + 1\n",
    "x"
   ]
  },
  {
   "cell_type": "code",
   "execution_count": 10,
   "id": "6a885cde",
   "metadata": {},
   "outputs": [
    {
     "data": {
      "text/plain": [
       "'I have eaten 99 burritos.'"
      ]
     },
     "execution_count": 10,
     "metadata": {},
     "output_type": "execute_result"
    }
   ],
   "source": [
    "#To make it correct write 99 as a string\n",
    "'I have eaten ' + '99' + ' burritos.'"
   ]
  },
  {
   "cell_type": "code",
   "execution_count": null,
   "id": "9724dde3",
   "metadata": {},
   "outputs": [],
   "source": []
  }
 ],
 "metadata": {
  "kernelspec": {
   "display_name": "Python 3 (ipykernel)",
   "language": "python",
   "name": "python3"
  },
  "language_info": {
   "codemirror_mode": {
    "name": "ipython",
    "version": 3
   },
   "file_extension": ".py",
   "mimetype": "text/x-python",
   "name": "python",
   "nbconvert_exporter": "python",
   "pygments_lexer": "ipython3",
   "version": "3.11.2"
  }
 },
 "nbformat": 4,
 "nbformat_minor": 5
}
